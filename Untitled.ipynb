{
 "cells": [
  {
   "cell_type": "markdown",
   "id": "dfaae065",
   "metadata": {},
   "source": [
    "# File hashing"
   ]
  },
  {
   "cell_type": "code",
   "execution_count": 186,
   "id": "c4edf9cf",
   "metadata": {},
   "outputs": [],
   "source": [
    "from hashlib import md5\n",
    "def fileHash(filePath):\n",
    "    with open(filePath, 'rb') as f:\n",
    "        return md5(f.read()).hexdigest()"
   ]
  },
  {
   "cell_type": "markdown",
   "id": "f46a6c8d",
   "metadata": {},
   "source": [
    "# Date creation"
   ]
  },
  {
   "cell_type": "code",
   "execution_count": 187,
   "id": "c1cc6182",
   "metadata": {},
   "outputs": [],
   "source": [
    "import time\n",
    "import jdatetime\n",
    "def makeDate(file):\n",
    "    gregorianTime = time.localtime(os.path.getmtime(file))\n",
    "    jalaliTime = jdatetime.date.fromgregorian(day = gregorianTime.tm_mday, month = gregorianTime.tm_mon, year = gregorianTime.tm_year)\n",
    "    result = \"\"\n",
    "    result += str(jalaliTime.year)\n",
    "    \n",
    "    if jalaliTime.month < 10:\n",
    "        result += \"0\" + str(jalaliTime.month)\n",
    "    else:\n",
    "        result += str(jalaliTime.month)\n",
    "    if jalaliTime.day < 10:\n",
    "        result += \"0\" + str(jalaliTime.day)\n",
    "    else:\n",
    "        result += str(jalaliTime.day)\n",
    "    return result"
   ]
  },
  {
   "cell_type": "markdown",
   "id": "67893a4f",
   "metadata": {},
   "source": [
    "# Name creation"
   ]
  },
  {
   "cell_type": "code",
   "execution_count": 188,
   "id": "d0aec582",
   "metadata": {},
   "outputs": [],
   "source": [
    "import os\n",
    "def makeName(file):\n",
    "    oldName = os.path.basename(file)\n",
    "    extention = oldName.split(\".\")[-1]\n",
    "    oldName = removeExtention(oldName)\n",
    "    oldName = clean(oldName)\n",
    "    fileName = \"\"\n",
    "    fileDate = makeDate(file)\n",
    "    number = 1\n",
    "    if fileDate not in dateToNumberOfPhotos:\n",
    "        dateToNumberOfPhotos[fileDate] = 1\n",
    "    else:\n",
    "        number = dateToNumberOfPhotos[fileDate]\n",
    "    fileName += fileDate\n",
    "    fileName += \"-\"\n",
    "    number = str(number)\n",
    "    while len(number) < 4:\n",
    "        number = \"0\" + str(number)\n",
    "    fileName += str(number)\n",
    "    fileName += \"-\"\n",
    "    fileName += oldName\n",
    "    fileName += \".\" + extention\n",
    "    dateToNumberOfPhotos[fileDate] = dateToNumberOfPhotos[fileDate] + 1\n",
    "    return fileName\n",
    "        "
   ]
  },
  {
   "cell_type": "markdown",
   "id": "4b5ab488",
   "metadata": {},
   "source": [
    "# Cleaning file name"
   ]
  },
  {
   "cell_type": "code",
   "execution_count": 189,
   "id": "692473ea",
   "metadata": {},
   "outputs": [],
   "source": [
    "def clean(string):\n",
    "    string = string.translate({ ord(c): None for c in \"._!0123456789~``$%^&*(!))-_+={}}[]]|\\/:;\"\"'<>,.?@#\" })\n",
    "    return string"
   ]
  },
  {
   "cell_type": "code",
   "execution_count": 190,
   "id": "8238483a",
   "metadata": {},
   "outputs": [],
   "source": [
    "def removeExtention(file):\n",
    "    string = \"\"\n",
    "    words = file.split(\".\")\n",
    "    i = 0\n",
    "    while i < len(words) - 1:\n",
    "        string += words[i];\n",
    "        i += 1\n",
    "    return string"
   ]
  },
  {
   "cell_type": "markdown",
   "id": "6c4473a3",
   "metadata": {},
   "source": [
    "# Detecting duplicate images"
   ]
  },
  {
   "cell_type": "code",
   "execution_count": 191,
   "id": "c89758b1",
   "metadata": {},
   "outputs": [],
   "source": [
    "from PIL import Image\n",
    "def isDuplicate(a,b):\n",
    "    imageA = Image.open(a)\n",
    "    imageB = Image.open(b)\n",
    "    if imageA == imageB:\n",
    "        return True\n",
    "    else:\n",
    "        return False"
   ]
  },
  {
   "cell_type": "markdown",
   "id": "df1480ab",
   "metadata": {},
   "source": [
    "# Finding List of images addresses and processing each one"
   ]
  },
  {
   "cell_type": "code",
   "execution_count": 207,
   "id": "072e92bd",
   "metadata": {},
   "outputs": [],
   "source": [
    "import glob\n",
    "def process(src):\n",
    "    des = \"D:/processed/\"\n",
    "    try:\n",
    "        os.mkdir(des)\n",
    "    except OSError:\n",
    "        print('There is a file with name \"processed\" in drive D')\n",
    "    if not os.path.exists(src):\n",
    "        raise OSError('Input folder does not found')\n",
    "    files = glob.glob(src + \"/**/*.JPG\", recursive = True)\n",
    "    files = files + glob.glob(src + \"/**/*.PNG\", recursive = True)\n",
    "    for f in files:\n",
    "        processFile(f, des)\n",
    "    print(\"Number of detected input files: {}, number of processed output files: {}\".format(len(files), len(hashToAddress)))\n",
    "    hashToAddress.clear()\n",
    "    dateToNumberOfPhotos.clear()\n",
    "    return des"
   ]
  },
  {
   "cell_type": "markdown",
   "id": "c64d0193",
   "metadata": {},
   "source": [
    "# Process function"
   ]
  },
  {
   "cell_type": "code",
   "execution_count": 208,
   "id": "c7c8d324",
   "metadata": {},
   "outputs": [],
   "source": [
    "import shutil\n",
    "hashToAddress = {}\n",
    "dateToNumberOfPhotos = {}\n",
    "\n",
    "def processFile(file, des):\n",
    "    key = fileHash(file)\n",
    "    if key in hashToAddress:\n",
    "        if isDuplicate(file, hashToAddress[key]):\n",
    "            return\n",
    "    fileName = makeName(file)\n",
    "    hashToAddress[key] = file\n",
    "    shutil.copyfile(file, des + fileName)"
   ]
  },
  {
   "cell_type": "markdown",
   "id": "2670afd5",
   "metadata": {},
   "source": [
    "# Driver Code"
   ]
  },
  {
   "cell_type": "code",
   "execution_count": 212,
   "id": "54cece61",
   "metadata": {
    "scrolled": true
   },
   "outputs": [
    {
     "name": "stdout",
     "output_type": "stream",
     "text": [
      "Number of detected input files: 15, number of processed output files: 9\n",
      "D:/processed/\n"
     ]
    }
   ],
   "source": [
    "#Argument is input address\n",
    "print(process(\"C:/Users/MohammadMehdi/Desktop/Python midterm/note\"))"
   ]
  },
  {
   "cell_type": "code",
   "execution_count": 210,
   "id": "505abbda",
   "metadata": {},
   "outputs": [
    {
     "data": {
      "text/plain": [
       "{}"
      ]
     },
     "execution_count": 210,
     "metadata": {},
     "output_type": "execute_result"
    }
   ],
   "source": [
    "hashToAddress"
   ]
  },
  {
   "cell_type": "code",
   "execution_count": null,
   "id": "a4cb3a55",
   "metadata": {},
   "outputs": [],
   "source": []
  }
 ],
 "metadata": {
  "kernelspec": {
   "display_name": "Python 3 (ipykernel)",
   "language": "python",
   "name": "python3"
  },
  "language_info": {
   "codemirror_mode": {
    "name": "ipython",
    "version": 3
   },
   "file_extension": ".py",
   "mimetype": "text/x-python",
   "name": "python",
   "nbconvert_exporter": "python",
   "pygments_lexer": "ipython3",
   "version": "3.10.2"
  }
 },
 "nbformat": 4,
 "nbformat_minor": 5
}
